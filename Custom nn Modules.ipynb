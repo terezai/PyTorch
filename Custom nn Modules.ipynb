{
 "cells": [
  {
   "cell_type": "markdown",
   "metadata": {},
   "source": [
    "# PyTorch: Custom nn Modules\n",
    "\n",
    "A fully-connected ReLU network with one hidden layer, trained to rpedict y from x by minimizing squared Euclidean distance\n",
    "\n",
    "This implementation defines the model as a custom Module subclass. Whenever you want a model more complex than a simple sequence of exisiting Modules you will need to define your model this way. \n"
   ]
  },
  {
   "cell_type": "code",
   "execution_count": null,
   "metadata": {
    "collapsed": true
   },
   "outputs": [],
   "source": [
    "import torch \n",
    "\n",
    "class TwoLayerNet(torch.nn.Module):\n",
    "    def __init__(self, input_dimension, hidden_dimension, output_dimension):\n",
    "        \"\"\"\n",
    "        In the constructor we instantiate two nn.Linear modules and assign them as\n",
    "        member variables\n",
    "        \"\"\"\n",
    "        super(TwoLayerNet, self).__init__()\n",
    "        self.linear1 = torch.nn.Linear(input_dimension, hidden_dimension)\n",
    "        self.linear2 = torch.nn.Linear(hidden_dimension, output_dimension)\n",
    "        \n",
    "    def forward(self, x):\n",
    "        \"\"\"\n",
    "        In the forward function we accept a Tensor of input data and we must return \n",
    "        a Tensor of output data. Wwe can use Modules defines in the constructor as \n",
    "        well as arbitrary operators on Tensors.\n",
    "        \"\"\"\n",
    "        h_relu = self.linear1(x).clamp(min=0)\n",
    "        y_pred = self.linear2(h_relu)\n",
    "        return y_pred\n",
    "    \n",
    "batch_size = 64\n",
    "input_dimension = 1000\n",
    "hidden_dimension = 100\n",
    "output_dimension = 10\n",
    "\n",
    "# Create random Tensors to hold inputs and outputs \n",
    "x = torch.randn(batch_size, input_dimension)\n",
    "y = torch.randn(batch_size, output_dimension)\n",
    "\n",
    "#Construct our model by instantiating the class defined above\n",
    "model = TwoLayerNet(input_dimension, hidden_dimension, output_dimension)\n",
    "\n",
    "# Construct our loss function and an Optimizier. the call to model.parameters()\n",
    "# in the SGD constructor will contain the learnable parameters of the two \n",
    "# nn.Linear modules whoch are members of the model.\n",
    "criterion = torch.nn.MSELoss(size_average=False)\n",
    "optimizer = torch.optim.SGD(model.parameters(), lr = 1e-4)\n",
    "for n in range(500):\n",
    "    #Forward pass: Compute predicted y by passing x to the model \n",
    "    y_pred = m\n",
    "        "
   ]
  }
 ],
 "metadata": {
  "kernelspec": {
   "display_name": "Python 3",
   "language": "python",
   "name": "python3"
  },
  "language_info": {
   "codemirror_mode": {
    "name": "ipython",
    "version": 3
   },
   "file_extension": ".py",
   "mimetype": "text/x-python",
   "name": "python",
   "nbconvert_exporter": "python",
   "pygments_lexer": "ipython3",
   "version": "3.6.1"
  }
 },
 "nbformat": 4,
 "nbformat_minor": 2
}
